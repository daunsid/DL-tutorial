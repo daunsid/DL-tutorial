{
 "cells": [
  {
   "cell_type": "code",
   "execution_count": null,
   "metadata": {},
   "outputs": [],
   "source": [
    "# import libraries\n",
    "import os\n",
    "import numpy as np\n",
    "import pandas as pd\n",
    "import matplotlib.pyplot as plt\n",
    "import torch\n",
    "from torch.data import Dataset"
   ]
  },
  {
   "cell_type": "code",
   "execution_count": null,
   "metadata": {},
   "outputs": [],
   "source": [
    "\n",
    "class dataset(Dataset):\n",
    "    def __init__(self, transform=None):\n",
    "        super(dataset, self).__init__()\n",
    "        xy = torch.from_numpy(np.loadtxt(path, dtype=np.float32, delimiter=\",\", skiprows=1, usecols=(0, 2, 3, 4)))\n",
    "        self.x = xy[:, :-1]\n",
    "        self.y = xy[:, -1]\n",
    "        self.n_samples = xy.shape[0]\n",
    "        self.transform = transform\n",
    "        \n",
    "    def __getitem__(self, index):\n",
    "        return self.x[index], self.y[index]\n",
    "        \n",
    "    def __len__():\n",
    "        return self.n_samples\n",
    "                            \n",
    "                            \n",
    "def call_data():\n",
    "    intdata = input(\"enter name of data:\" )\n",
    "    path = os.path.join(\"./\", intdata+\".csv\")\n",
    "    type_data = input(\"tensor or pandas: \")\n",
    "    if type_data == \"tensor\":\n",
    "        data = dataset()\n",
    "    elif type_data == pandas:\n",
    "        data = pd.read_csv(path)\n",
    "    \n",
    "    return data"
   ]
  },
  {
   "cell_type": "code",
   "execution_count": null,
   "metadata": {},
   "outputs": [],
   "source": [
    "# load data\n",
    "\n",
    "\"\"\"def load_data():\n",
    "    intdata = input(\"enter name of data:\" )\n",
    "    path = os.path.join(\"./\", intdata+\".csv\")\n",
    "    data = pd.read_csv(path)\n",
    "    return data\n",
    "\n",
    "dataset = load_data\n",
    "\"\"\"\n",
    "data = call_data()"
   ]
  },
  {
   "cell_type": "code",
   "execution_count": null,
   "metadata": {},
   "outputs": [],
   "source": [
    "# preprocess data\n",
    "\n",
    "def data_assignment():\n",
    "    pass"
   ]
  },
  {
   "cell_type": "code",
   "execution_count": null,
   "metadata": {},
   "outputs": [],
   "source": [
    "# build the model\n",
    "\n",
    "def model():\n",
    "    pass"
   ]
  },
  {
   "cell_type": "code",
   "execution_count": null,
   "metadata": {},
   "outputs": [],
   "source": [
    "# fit the model\n",
    "\n",
    "def fit():\n",
    "    pass"
   ]
  },
  {
   "cell_type": "code",
   "execution_count": null,
   "metadata": {},
   "outputs": [],
   "source": [
    "# making predictions\n",
    "\n",
    "def make_prediction():\n",
    "    pass"
   ]
  },
  {
   "cell_type": "code",
   "execution_count": null,
   "metadata": {},
   "outputs": [],
   "source": [
    "# visualize the result\n",
    "\n",
    "def visualize():\n",
    "    pass"
   ]
  },
  {
   "cell_type": "code",
   "execution_count": null,
   "metadata": {},
   "outputs": [],
   "source": [
    "# analysis\n",
    "\n",
    "def anlyse():\n",
    "    pass"
   ]
  }
 ],
 "metadata": {
  "kernelspec": {
   "display_name": "Python 3",
   "language": "python",
   "name": "python3"
  },
  "language_info": {
   "codemirror_mode": {
    "name": "ipython",
    "version": 3
   },
   "file_extension": ".py",
   "mimetype": "text/x-python",
   "name": "python",
   "nbconvert_exporter": "python",
   "pygments_lexer": "ipython3",
   "version": "3.7.4"
  }
 },
 "nbformat": 4,
 "nbformat_minor": 2
}
